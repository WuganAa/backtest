{
 "cells": [
  {
   "cell_type": "code",
   "execution_count": 1,
   "metadata": {},
   "outputs": [
    {
     "name": "stdout",
     "output_type": "stream",
     "text": [
      "Data Time Interval:\n",
      "Start Date: 2018-07-25 04:20:00+00:00\n",
      "End Date: 2018-07-25 06:20:00+00:00\n",
      "---------------------------------\n",
      "Running Backtest...\n",
      "---------------------------------\n",
      "LONG: 2018-07-25 04:30:00+00:00\n",
      "SHORT: 2018-07-25 05:22:00+00:00\n",
      "LONG: 2018-07-25 05:48:00+00:00\n",
      "SHORT: 2018-07-25 06:04:00+00:00\n",
      "---------------------------------\n",
      "Backtest complete.\n",
      "---------------------------------\n",
      "Sharpe Ratio: inf\n",
      "Max Drawdown: 0.5295666442\n",
      "Max Drawdown Duration: 72\n",
      "Total Returns: 0.0026560000\n",
      "---------------------------------\n",
      "Trades: 2\n",
      "Trade Winning: 50%\n",
      "Average Trade: 0.15%\n",
      "Average Win: 0.65%\n",
      "Average Loss: -0.36%\n",
      "Best Trade: 0.65%\n",
      "Worst Trade: -0.36%\n",
      "Worst Trade Date: 0 days 00:16:00\n",
      "Avg Days in Trade: 0 days 00:34:00\n",
      "---------------------------------\n"
     ]
    },
    {
     "name": "stderr",
     "output_type": "stream",
     "text": [
      "C:\\Anaconda3\\lib\\site-packages\\ipykernel_launcher.py:37: DeprecationWarning: The truth value of an empty array is ambiguous. Returning False, but in future this will result in an error. Use `array.size > 0` to check that an array is not empty.\n",
      "C:\\Anaconda3\\lib\\site-packages\\ipykernel_launcher.py:37: DeprecationWarning: elementwise != comparison failed; this will raise an error in the future.\n",
      "F:\\Python\\backtest\\backtest\\Backtest\\performance.py:66: RuntimeWarning: divide by zero encountered in double_scalars\n",
      "  res_sharpe = np.sqrt(self.periods) * np.mean(res_daily_returns) / np.std(res_daily_returns)\n"
     ]
    },
    {
     "data": {
      "text/plain": [
       "<Figure size 1000x2100 with 8 Axes>"
      ]
     },
     "metadata": {},
     "output_type": "display_data"
    }
   ],
   "source": [
    "import numpy as np\n",
    "import pandas as pd\n",
    "import queue\n",
    "\n",
    "from Backtest.strategy import Strategy\n",
    "from Backtest.event import EventType\n",
    "from Backtest.backtest import Backtest\n",
    "from Backtest.data import JSONDataHandler\n",
    "\n",
    "\n",
    "\n",
    "class MACDStrategy(Strategy):\n",
    "    def __init__(self, bars, events, suggested_quantity = 1,\n",
    "                 short_window = 10, long_window = 40):\n",
    "        self.bars = bars\n",
    "        self.symbol_list = self.bars.tickers\n",
    "        self.events = events\n",
    "        self.suggested_quantity = suggested_quantity\n",
    "        self.holdinds = self._calculate_initial_holdings()\n",
    "\n",
    "        self.short_window = short_window\n",
    "        self.long_window = long_window\n",
    "\n",
    "    def _calculate_initial_holdings(self):\n",
    "        holdings = {}\n",
    "        for s in self.symbol_list:\n",
    "            holdings[s] = \"EMPTY\"\n",
    "        return holdings\n",
    "\n",
    "    def generate_signals(self, event):\n",
    "        if event.type == EventType.MARKET:\n",
    "            ticker = event.ticker\n",
    "            bars = self.bars.get_latest_bars_values(\n",
    "                ticker, \"close\", N=self.long_window\n",
    "            )\n",
    "            bar_date = event.timestamp\n",
    "            if bars is not None and bars != []:\n",
    "                short_ma = np.mean(bars[-self.short_window:])\n",
    "                long_ma  = np.mean(bars[-self.long_window:])\n",
    "\n",
    "                if short_ma > long_ma and self.holdinds[ticker] == \"EMPTY\":\n",
    "                    self.generate_long_signals(ticker, bar_date)\n",
    "                    self.holdinds[ticker] = \"HOLD\"\n",
    "                elif short_ma < long_ma and self.holdinds[ticker] == \"HOLD\":\n",
    "                    self.generate_short_signals(ticker, bar_date)\n",
    "                    self.holdinds[ticker] = \"EMPTY\"\n",
    "\n",
    "def run(config):\n",
    "    events_queue = queue.Queue()\n",
    "    data_handler = JSONDataHandler(\n",
    "        config['csv_dir'], config['freq'], events_queue, config['tickers'],\n",
    "        start_date=config['start_date'], end_date=config['end_date']\n",
    "    )\n",
    "    strategy = MACDStrategy(data_handler, events_queue, suggested_quantity = 1,\n",
    "                            short_window = 10, long_window = 40)\n",
    "\n",
    "    backtest = Backtest(config, events_queue, strategy,\n",
    "                        data_handler= data_handler)\n",
    "\n",
    "    results = backtest.start_trading()\n",
    "    return backtest, results\n",
    "\n",
    "\n",
    "if __name__ == \"__main__\":\n",
    "    config = {\n",
    "        \"csv_dir\": \"F:/Python/backtest/ethusdt-trade.csv.2018-07-25.formatted\",\n",
    "        \"out_dir\": \"F:/Python/backtest/backtest/results/MACDStrategy\",\n",
    "        \"title\": \"MACDStrategy\",\n",
    "        \"is_plot\": False,\n",
    "        \"save_plot\": True,\n",
    "        \"save_tradelog\": False,\n",
    "        \"start_date\": pd.Timestamp(\"2018-07-25T04:20:00\", tz = \"UTC\"),\n",
    "        \"end_date\": pd.Timestamp(\"2018-07-25T06:20:00\", tz = \"UTC\"),\n",
    "        \"equity\": 500.0,\n",
    "        \"freq\": 1,      # min\n",
    "        \"tickers\": ['ETHUSDT']\n",
    "    }\n",
    "    backtest, results = run(config)\n",
    "\n",
    "\n"
   ]
  },
  {
   "cell_type": "code",
   "execution_count": null,
   "metadata": {},
   "outputs": [],
   "source": []
  }
 ],
 "metadata": {
  "kernelspec": {
   "display_name": "Python 3",
   "language": "python",
   "name": "python3"
  },
  "language_info": {
   "codemirror_mode": {
    "name": "ipython",
    "version": 3
   },
   "file_extension": ".py",
   "mimetype": "text/x-python",
   "name": "python",
   "nbconvert_exporter": "python",
   "pygments_lexer": "ipython3",
   "version": "3.6.5"
  }
 },
 "nbformat": 4,
 "nbformat_minor": 2
}
