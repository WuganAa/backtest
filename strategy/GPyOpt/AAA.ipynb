{
 "cells": [
  {
   "cell_type": "code",
   "execution_count": 1,
   "metadata": {},
   "outputs": [],
   "source": [
    "from setting import set_env"
   ]
  },
  {
   "cell_type": "code",
   "execution_count": 2,
   "metadata": {},
   "outputs": [
    {
     "name": "stdout",
     "output_type": "stream",
     "text": [
      "The path '/home/chenxg/backtest/backtest' is inserted into the sys.path\n"
     ]
    }
   ],
   "source": [
    "config = set_env()"
   ]
  },
  {
   "cell_type": "code",
   "execution_count": 3,
   "metadata": {},
   "outputs": [
    {
     "data": {
      "text/plain": [
       "{'backtest_folder': '/home/chenxg/backtest/backtest',\n",
       " 'data_folder': '/home/chenxg/backtest/Binance',\n",
       " 'output_folder': '/home/chenxg/backtest/results',\n",
       " 'GPyOpt': {'batch_size': 1, 'num_cores': 1}}"
      ]
     },
     "execution_count": 3,
     "metadata": {},
     "output_type": "execute_result"
    }
   ],
   "source": [
    "config"
   ]
  },
  {
   "cell_type": "code",
   "execution_count": 4,
   "metadata": {},
   "outputs": [],
   "source": [
    "import os\n",
    "import sys\n",
    "import pickle as pkl\n",
    "import pandas as pd\n",
    "import numpy as np\n",
    "import shutil\n",
    "import glob"
   ]
  },
  {
   "cell_type": "code",
   "execution_count": 5,
   "metadata": {},
   "outputs": [],
   "source": [
    "strategys = ['ADXStrategy', 'ADX_BOLLStrategy', 'ADX_EMVStrategy', 'ADX_RSIStrategy', \n",
    "             'AOStrategy', 'BNHStrategy', 'BOLLStrategy', 'BOLL_EMVStrategy', 'BOLL_RSIStrategy',\n",
    "             'CCIStrategy', 'CMFStrategy', 'CMOStrategy', 'EMAStrategy', 'EMVStrategy', \n",
    "             'EMV_RSIStrategy', 'KDJStrategy', 'MACDCrossStrategy', 'MACDStrategy', \n",
    "             'MACD_ADXStrategy', 'MACD_BOLLStrategy', 'MACD_EMVStrategy', 'MACD_RSIStrategy', \n",
    "             'MAStrategy', 'RSIStrategy', 'SMAStrategy']"
   ]
  },
  {
   "cell_type": "code",
   "execution_count": 6,
   "metadata": {},
   "outputs": [],
   "source": [
    "columns = ['parameters', 'start_date', 'end_date', 'tot_return', 'annual_return','cagr','max_drawdown', 'max_drawdown_duration', \n",
    "           'sharpe', 'sortino', 'IR', 'trading_num', 'win_pct', 'avg_trd_pct', \n",
    "           'avg_win_pct', 'avg_loss_pct', 'avg_dit', 'avg_com_imp']"
   ]
  },
  {
   "cell_type": "code",
   "execution_count": 7,
   "metadata": {},
   "outputs": [],
   "source": [
    "results_in = pd.DataFrame(columns=columns, index=strategys)\n",
    "results_out = pd.DataFrame(columns=columns, index=strategys)"
   ]
  },
  {
   "cell_type": "code",
   "execution_count": 8,
   "metadata": {},
   "outputs": [],
   "source": [
    "rolling_28D_in = {}\n",
    "rolling_28D_out = {}"
   ]
  },
  {
   "cell_type": "code",
   "execution_count": 9,
   "metadata": {},
   "outputs": [
    {
     "name": "stdout",
     "output_type": "stream",
     "text": [
      "results_ADXStrategy_84_2018-09-07_023050.pkl\n",
      "results_ADXStrategy_84_2018-09-07_023114.pkl\n",
      "results_ADX_BOLLStrategy_99_175_1.9032028756539632_2018-09-07_043202.pkl\n",
      "results_ADX_BOLLStrategy_99_175_1.9032028756539632_2018-09-07_043223.pkl\n",
      "results_ADX_EMVStrategy_84_209_86_16_2018-09-07_033617.pkl\n",
      "results_ADX_EMVStrategy_84_209_86_16_2018-09-07_033709.pkl\n",
      "results_ADX_RSIStrategy_16_51_84_44_2018-09-07_023009.pkl\n",
      "results_ADX_RSIStrategy_16_51_84_44_2018-09-07_023027.pkl\n",
      "results_AOStrategy_183_2018-09-07_023223.pkl\n",
      "results_AOStrategy_183_2018-09-07_023236.pkl\n",
      "results_BNHStrategy_2018-09-07_023317.pkl\n",
      "results_BNHStrategy_2018-09-07_023349.pkl\n",
      "results_BNHStrategy_2018-09-07_023335.pkl\n",
      "results_BOLLStrategy_25_2.867240398483609_2018-09-07_023724.pkl\n",
      "results_BOLLStrategy_25_2.867240398483609_2018-09-07_023733.pkl\n",
      "results_BOLL_EMVStrategy_97_2.1768780225130215_1_107_201_2018-09-07_023412.pkl\n",
      "results_BOLL_EMVStrategy_97_2.1768780225130215_1_107_201_2018-09-07_023420.pkl\n",
      "results_BOLL_RSIStrategy_139_0.422783795206475_4_58_26_2018-09-07_023513.pkl\n",
      "results_BOLL_RSIStrategy_139_0.422783795206475_4_58_26_2018-09-07_023642.pkl\n",
      "results_CCIStrategy_119_2018-09-07_023941.pkl\n",
      "results_CCIStrategy_119_2018-09-07_023956.pkl\n",
      "results_CMFStrategy_18_2018-09-07_024020.pkl\n",
      "results_CMFStrategy_18_2018-09-07_024029.pkl\n",
      "results_CMOStrategy_146_2018-09-07_024054.pkl\n",
      "results_CMOStrategy_146_2018-09-07_024108.pkl\n",
      "results_TA_EMA_3_57_2018-09-07_025935.pkl\n",
      "results_TA_EMA_3_57_2018-09-07_033759.pkl\n",
      "results_EMVStrategy_11_1_210_2018-09-07_024317.pkl\n",
      "results_EMVStrategy_11_1_210_2018-09-07_024308.pkl\n",
      "results_EMV_RSIStrategy_146_37_78_4_76_39_2018-09-07_024158.pkl\n",
      "results_EMV_RSIStrategy_146_37_78_4_76_39_2018-09-07_024228.pkl\n",
      "results_KDJStrategy_98_12_88_2018-09-07_033817.pkl\n",
      "results_KDJStrategy_98_12_88_2018-09-07_033827.pkl\n",
      "results_MACDCrossStrategy_114_166_2018-09-07_025659.pkl\n",
      "results_MACDCrossStrategy_114_166_2018-09-07_025629.pkl\n",
      "results_MACDStrategy_119_199_2018-09-07_025559.pkl\n",
      "results_MACDStrategy_119_199_2018-09-07_025609.pkl\n",
      "results_MACD_ADXStrategy_20_156_20_2018-09-07_033901.pkl\n",
      "results_MACD_ADXStrategy_20_156_20_2018-09-07_025005.pkl\n",
      "results_MACD_BOLLStrategy_78_170_50_2.3547733375395232_2018-09-07_025112.pkl\n",
      "results_MACD_BOLLStrategy_78_170_50_2.3547733375395232_2018-09-07_025100.pkl\n",
      "results_MACD_EMVStrategy_18_169_185_46_171_2018-09-07_025202.pkl\n",
      "results_MACD_EMVStrategy_18_169_185_46_171_2018-09-07_025301.pkl\n",
      "results_MACD_RSIStrategy_95_101_3_81_16_2018-09-07_025341.pkl\n",
      "results_MACD_RSIStrategy_95_101_3_81_16_2018-09-07_025328.pkl\n",
      "results_TA_MA_3_57_2018-09-07_025859.pkl\n",
      "results_TA_MA_3_57_2018-09-07_025916.pkl\n",
      "results_TA_MA_3_57_2018-09-07_025906.pkl\n",
      "results_RSIStrategy_239_55_15_2018-09-07_025500.pkl\n",
      "results_RSIStrategy_239_55_15_2018-09-07_025510.pkl\n",
      "results_TA_SMA_3_57_2018-09-07_025851.pkl\n",
      "results_TA_SMA_3_57_2018-09-07_025843.pkl\n"
     ]
    }
   ],
   "source": [
    "for strategy in strategys:\n",
    "    for dirpath, dirnames, filenames in os.walk(os.path.join(config['output_folder'], strategy)):\n",
    "        for filename in filenames:\n",
    "            if filename[-3:] == 'pkl':\n",
    "                print(filename)\n",
    "                file_dir = os.path.join(dirpath, filename)\n",
    "                with open(file_dir, 'rb') as fr:\n",
    "                    results = pkl.load(fr)\n",
    "                start_date = results['config']['start_date']\n",
    "                if start_date == pd.Timestamp(\"2018-02-01T00:0:00\", freq = \"60\" + \"T\"):\n",
    "                    rolling_28D_in[strategy] = results['rolling_28D']\n",
    "                    results_in.loc[strategy] = [\n",
    "                        filename[8:-22],\n",
    "                        results['config']['start_date'],\n",
    "                        results['config']['end_date'],\n",
    "                        results['tot_return'],\n",
    "                        results['annual_return'],\n",
    "                        results['cagr'],\n",
    "                        results['max_drawdown'],\n",
    "                        results['max_drawdown_duration'],\n",
    "                        results['sharpe'],\n",
    "                        results['sortino'],\n",
    "                        results['IR'],\n",
    "                        results['trade_info']['trading_num'],\n",
    "                        results['trade_info']['win_pct'],\n",
    "                        results['trade_info']['avg_trd_pct'],\n",
    "                        results['trade_info']['avg_win_pct'],\n",
    "                        results['trade_info']['avg_loss_pct'],\n",
    "                        results['trade_info']['avg_dit'],\n",
    "                        results['trade_info']['avg_com_imp']\n",
    "                    ]\n",
    "                elif start_date == pd.Timestamp(\"2018-06-01T00:0:00\", freq = \"60\" + \"T\"):\n",
    "                    rolling_28D_out[strategy] = results['rolling_28D']\n",
    "                    results_out.loc[strategy] = [\n",
    "                        filename[8:-22],\n",
    "                        results['config']['start_date'],\n",
    "                        results['config']['end_date'],\n",
    "                        results['tot_return'],\n",
    "                        results['annual_return'],\n",
    "                        results['cagr'],\n",
    "                        results['max_drawdown'],\n",
    "                        results['max_drawdown_duration'],\n",
    "                        results['sharpe'],\n",
    "                        results['sortino'],\n",
    "                        results['IR'],\n",
    "                        results['trade_info']['trading_num'],\n",
    "                        results['trade_info']['win_pct'],\n",
    "                        results['trade_info']['avg_trd_pct'],\n",
    "                        results['trade_info']['avg_win_pct'],\n",
    "                        results['trade_info']['avg_loss_pct'],\n",
    "                        results['trade_info']['avg_dit'],\n",
    "                        results['trade_info']['avg_com_imp']\n",
    "                    ]"
   ]
  },
  {
   "cell_type": "code",
   "execution_count": 10,
   "metadata": {},
   "outputs": [
    {
     "name": "stderr",
     "output_type": "stream",
     "text": [
      "/home/chenxg/anaconda3/lib/python3.6/site-packages/IPython/core/interactiveshell.py:2963: FutureWarning: \n",
      "Panel is deprecated and will be removed in a future version.\n",
      "The recommended way to represent these types of 3-dimensional data are with a MultiIndex on a DataFrame, via the Panel.to_frame() method\n",
      "Alternatively, you can use the xarray package http://xarray.pydata.org/en/stable/.\n",
      "Pandas provides a `.to_xarray()` method to help automate this conversion.\n",
      "\n",
      "  exec(code_obj, self.user_global_ns, self.user_ns)\n",
      "/home/chenxg/anaconda3/lib/python3.6/site-packages/pandas/core/panel.py:1255: FutureWarning: \n",
      "Panel is deprecated and will be removed in a future version.\n",
      "The recommended way to represent these types of 3-dimensional data are with a MultiIndex on a DataFrame, via the Panel.to_frame() method\n",
      "Alternatively, you can use the xarray package http://xarray.pydata.org/en/stable/.\n",
      "Pandas provides a `.to_xarray()` method to help automate this conversion.\n",
      "\n",
      "  return super(Panel, self).transpose(*axes, **kwargs)\n"
     ]
    }
   ],
   "source": [
    "rolling_28D_in = pd.Panel(rolling_28D_in).transpose(2,0,1).to_frame()"
   ]
  },
  {
   "cell_type": "code",
   "execution_count": 11,
   "metadata": {},
   "outputs": [
    {
     "name": "stderr",
     "output_type": "stream",
     "text": [
      "/home/chenxg/anaconda3/lib/python3.6/site-packages/IPython/core/interactiveshell.py:2963: FutureWarning: \n",
      "Panel is deprecated and will be removed in a future version.\n",
      "The recommended way to represent these types of 3-dimensional data are with a MultiIndex on a DataFrame, via the Panel.to_frame() method\n",
      "Alternatively, you can use the xarray package http://xarray.pydata.org/en/stable/.\n",
      "Pandas provides a `.to_xarray()` method to help automate this conversion.\n",
      "\n",
      "  exec(code_obj, self.user_global_ns, self.user_ns)\n",
      "/home/chenxg/anaconda3/lib/python3.6/site-packages/pandas/core/panel.py:1255: FutureWarning: \n",
      "Panel is deprecated and will be removed in a future version.\n",
      "The recommended way to represent these types of 3-dimensional data are with a MultiIndex on a DataFrame, via the Panel.to_frame() method\n",
      "Alternatively, you can use the xarray package http://xarray.pydata.org/en/stable/.\n",
      "Pandas provides a `.to_xarray()` method to help automate this conversion.\n",
      "\n",
      "  return super(Panel, self).transpose(*axes, **kwargs)\n"
     ]
    }
   ],
   "source": [
    "rolling_28D_out = pd.Panel(rolling_28D_out).transpose(2,0,1).to_frame()"
   ]
  },
  {
   "cell_type": "code",
   "execution_count": 12,
   "metadata": {},
   "outputs": [],
   "source": [
    "results_in.to_excel(os.path.join(config['output_folder'], \"results_30min_sample_in_20180201to20180601.xlsx\"))"
   ]
  },
  {
   "cell_type": "code",
   "execution_count": 13,
   "metadata": {},
   "outputs": [],
   "source": [
    "results_out.to_excel(os.path.join(config['output_folder'], \"results_30min_sample_out_20180601to20180807.xlsx\"))"
   ]
  },
  {
   "cell_type": "code",
   "execution_count": 14,
   "metadata": {},
   "outputs": [],
   "source": [
    "rolling_28D_in.to_excel(os.path.join(config['output_folder'], \"rolling28D_30min_sample_in_20180201to20180601.xlsx\"))"
   ]
  },
  {
   "cell_type": "code",
   "execution_count": 15,
   "metadata": {},
   "outputs": [],
   "source": [
    "rolling_28D_out.to_excel(os.path.join(config['output_folder'], \"rolling28D_30min_sample_out_20180601to20180807.xlsx\"))"
   ]
  },
  {
   "cell_type": "code",
   "execution_count": null,
   "metadata": {},
   "outputs": [],
   "source": []
  },
  {
   "cell_type": "code",
   "execution_count": null,
   "metadata": {},
   "outputs": [],
   "source": []
  },
  {
   "cell_type": "code",
   "execution_count": 70,
   "metadata": {},
   "outputs": [],
   "source": [
    "strategy  = 'CMFStrategy'"
   ]
  },
  {
   "cell_type": "code",
   "execution_count": 71,
   "metadata": {},
   "outputs": [
    {
     "ename": "ModuleNotFoundError",
     "evalue": "No module named 'pandas._libs.tslibs.timestamps'",
     "output_type": "error",
     "traceback": [
      "\u001b[1;31m---------------------------------------------------------------------------\u001b[0m",
      "\u001b[1;31mModuleNotFoundError\u001b[0m                       Traceback (most recent call last)",
      "\u001b[1;32m<ipython-input-71-65980222a44e>\u001b[0m in \u001b[0;36m<module>\u001b[1;34m()\u001b[0m\n\u001b[0;32m      6\u001b[0m             \u001b[0mfile_dir\u001b[0m \u001b[1;33m=\u001b[0m \u001b[0mos\u001b[0m\u001b[1;33m.\u001b[0m\u001b[0mpath\u001b[0m\u001b[1;33m.\u001b[0m\u001b[0mjoin\u001b[0m\u001b[1;33m(\u001b[0m\u001b[0mdirpath\u001b[0m\u001b[1;33m,\u001b[0m \u001b[0mfilename\u001b[0m\u001b[1;33m)\u001b[0m\u001b[1;33m\u001b[0m\u001b[0m\n\u001b[0;32m      7\u001b[0m             \u001b[1;32mwith\u001b[0m \u001b[0mopen\u001b[0m\u001b[1;33m(\u001b[0m\u001b[0mfile_dir\u001b[0m\u001b[1;33m,\u001b[0m \u001b[1;34m'rb'\u001b[0m\u001b[1;33m)\u001b[0m \u001b[1;32mas\u001b[0m \u001b[0mfr\u001b[0m\u001b[1;33m:\u001b[0m\u001b[1;33m\u001b[0m\u001b[0m\n\u001b[1;32m----> 8\u001b[1;33m                 \u001b[0mresults\u001b[0m \u001b[1;33m=\u001b[0m \u001b[0mpkl\u001b[0m\u001b[1;33m.\u001b[0m\u001b[0mload\u001b[0m\u001b[1;33m(\u001b[0m\u001b[0mfr\u001b[0m\u001b[1;33m)\u001b[0m\u001b[1;33m\u001b[0m\u001b[0m\n\u001b[0m\u001b[0;32m      9\u001b[0m                 \u001b[0mres_tot_return\u001b[0m\u001b[1;33m[\u001b[0m\u001b[0mfilename\u001b[0m\u001b[1;33m]\u001b[0m \u001b[1;33m=\u001b[0m \u001b[0mresults\u001b[0m\u001b[1;33m[\u001b[0m\u001b[1;34m'tot_return'\u001b[0m\u001b[1;33m]\u001b[0m\u001b[1;33m\u001b[0m\u001b[0m\n\u001b[0;32m     10\u001b[0m                 \u001b[0mres_sharpe\u001b[0m\u001b[1;33m[\u001b[0m\u001b[0mfilename\u001b[0m\u001b[1;33m]\u001b[0m \u001b[1;33m=\u001b[0m \u001b[0mresults\u001b[0m\u001b[1;33m[\u001b[0m\u001b[1;34m'sharpe'\u001b[0m\u001b[1;33m]\u001b[0m\u001b[1;33m\u001b[0m\u001b[0m\n",
      "\u001b[1;31mModuleNotFoundError\u001b[0m: No module named 'pandas._libs.tslibs.timestamps'"
     ]
    }
   ],
   "source": [
    "for dirpath, dirnames, filenames in os.walk(os.path.join(config['output_folder'], strategy)):\n",
    "    res_tot_return = {}\n",
    "    res_sharpe = {}\n",
    "    for filename in filenames:\n",
    "        if filename[-3:] == 'pkl':\n",
    "            file_dir = os.path.join(dirpath, filename)\n",
    "            with open(file_dir, 'rb') as fr:\n",
    "                results = pkl.load(fr)\n",
    "                res_tot_return[filename] = results['tot_return']\n",
    "                res_sharpe[filename] = results['sharpe']\n",
    "    max_return = pd.Series(res_tot_return).idxmax()\n",
    "    max_sharpe = pd.Series(res_sharpe).idxmax()\n",
    "    try:\n",
    "        shutil.copy(os.path.join(dirpath, max_return), tot_return_dir)\n",
    "    except:\n",
    "        pass\n",
    "    try:\n",
    "        for data in glob.glob(os.path.join(dirpath, max_return[8:-22] + \"*\")): \n",
    "            shutil.move(data, tot_return_dir) \n",
    "    except:\n",
    "        pass\n",
    "    try:\n",
    "        shutil.copy(os.path.join(dirpath, max_sharpe), sharpe_dir) \n",
    "    except:\n",
    "        pass   \n",
    "    try:\n",
    "        for data in glob.glob(os.path.join(dirpath, max_sharpe[8:-22] + \"*\")): \n",
    "            shutil.move(data, sharpe_dir) \n",
    "    except:\n",
    "        pass"
   ]
  },
  {
   "cell_type": "code",
   "execution_count": 67,
   "metadata": {},
   "outputs": [],
   "source": [
    "strategys = [ ]\n",
    "for dirpath, dirnames, filenames in os.walk('F:/Python/results'):\n",
    "    strategys.append(dirnames)                                   \n",
    "strategys = strategys[0]"
   ]
  },
  {
   "cell_type": "code",
   "execution_count": 68,
   "metadata": {},
   "outputs": [
    {
     "data": {
      "text/plain": [
       "['ADXStrategy',\n",
       " 'ADX_BOLLStrategy',\n",
       " 'ADX_EMVStrategy',\n",
       " 'ADX_RSIStrategy',\n",
       " 'AOStrategy',\n",
       " 'BOLLStrategy',\n",
       " 'BOLL_EMVStrategy',\n",
       " 'BOLL_RSIStrategy',\n",
       " 'CCIStrategy',\n",
       " 'CMFStrategy',\n",
       " 'EMVStrategy',\n",
       " 'EMV_RSIStrategy',\n",
       " 'KDJStrategy',\n",
       " 'MACDCrossStrategy',\n",
       " 'MACDStrategy',\n",
       " 'MACD_ADXStrategy',\n",
       " 'MACD_BOLLStrategy',\n",
       " 'MACD_EMVStrategy',\n",
       " 'MACD_RSIStrategy',\n",
       " 'RSIStrategy']"
      ]
     },
     "execution_count": 68,
     "metadata": {},
     "output_type": "execute_result"
    }
   ],
   "source": [
    "strategys"
   ]
  },
  {
   "cell_type": "code",
   "execution_count": 51,
   "metadata": {},
   "outputs": [
    {
     "data": {
      "text/plain": [
       "'results_CMOStrategy_146_2018-09-06_153905.pkl'"
      ]
     },
     "execution_count": 51,
     "metadata": {},
     "output_type": "execute_result"
    }
   ],
   "source": [
    "max_return"
   ]
  },
  {
   "cell_type": "code",
   "execution_count": 17,
   "metadata": {},
   "outputs": [
    {
     "data": {
      "text/plain": [
       "dict_keys(['returns', 'daily_returns', 'equity', 'tot_return', 'annual_return', 'cagr', 'rolling_sharpe', 'cum_returns', 'daily_cum_returns', 'drawdown', 'max_drawdown', 'max_drawdown_duration', 'sharpe', 'sortino', 'IR', 'rolling_return_week', 'rolling_return_month', 'rolling_return_year', 'rolling_28D', 'rolling_7D', 'BNH_equity', 'BNH_returns', 'BNH_cum_returns', 'config', 'positions', 'trade_info', 'time_info'])"
      ]
     },
     "execution_count": 17,
     "metadata": {},
     "output_type": "execute_result"
    }
   ],
   "source": [
    "results.keys()"
   ]
  },
  {
   "cell_type": "code",
   "execution_count": 29,
   "metadata": {},
   "outputs": [
    {
     "data": {
      "text/plain": [
       "'results_TA_SMA_3_57_2018-09-06_152908.pkl'"
      ]
     },
     "execution_count": 29,
     "metadata": {},
     "output_type": "execute_result"
    }
   ],
   "source": [
    "pd.Series(returnsss).idxmax()"
   ]
  },
  {
   "cell_type": "code",
   "execution_count": 30,
   "metadata": {},
   "outputs": [
    {
     "data": {
      "text/plain": [
       "0.04259825425325259"
      ]
     },
     "execution_count": 30,
     "metadata": {},
     "output_type": "execute_result"
    }
   ],
   "source": [
    "pd.Series(returnsss).max()"
   ]
  },
  {
   "cell_type": "code",
   "execution_count": null,
   "metadata": {},
   "outputs": [],
   "source": []
  },
  {
   "cell_type": "code",
   "execution_count": null,
   "metadata": {},
   "outputs": [],
   "source": []
  },
  {
   "cell_type": "code",
   "execution_count": 13,
   "metadata": {},
   "outputs": [],
   "source": [
    "fr = open(fname, 'rb')"
   ]
  },
  {
   "cell_type": "code",
   "execution_count": 14,
   "metadata": {},
   "outputs": [],
   "source": [
    "results11 = pkl.load(fr)"
   ]
  },
  {
   "cell_type": "code",
   "execution_count": null,
   "metadata": {},
   "outputs": [],
   "source": []
  },
  {
   "cell_type": "code",
   "execution_count": 15,
   "metadata": {},
   "outputs": [],
   "source": [
    "fr.close()"
   ]
  }
 ],
 "metadata": {
  "kernelspec": {
   "display_name": "Python 3",
   "language": "python",
   "name": "python3"
  },
  "language_info": {
   "codemirror_mode": {
    "name": "ipython",
    "version": 3
   },
   "file_extension": ".py",
   "mimetype": "text/x-python",
   "name": "python",
   "nbconvert_exporter": "python",
   "pygments_lexer": "ipython3",
   "version": "3.6.5"
  }
 },
 "nbformat": 4,
 "nbformat_minor": 2
}
